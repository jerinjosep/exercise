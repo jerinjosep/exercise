{
 "cells": [
  {
   "cell_type": "code",
   "execution_count": 1,
   "id": "d8096e3e",
   "metadata": {},
   "outputs": [],
   "source": [
    "#Task 11.1\n",
    "#Explain Return keyword with example.\n",
    "\n",
    "#return keyword can be used to return values from a function\n",
    "#it can be used to end the execution of a function\n",
    "#statements below return keyword will not get executed"
   ]
  },
  {
   "cell_type": "code",
   "execution_count": 4,
   "id": "3c0216af",
   "metadata": {},
   "outputs": [],
   "source": [
    "# Ex1) returning sum\n",
    "def add(x,y):\n",
    "    z = x + y\n",
    "    return z\n",
    "    print(z)"
   ]
  },
  {
   "cell_type": "code",
   "execution_count": 5,
   "id": "590d700e",
   "metadata": {},
   "outputs": [],
   "source": [
    "#Task11.2\n",
    "\n",
    "#Ask 2 numbers from users and store it in num1 and num2\n",
    "#Ask user to press 1 for addition,2 for subtraction,3 for multiplication and 4 for division\n",
    "#create 4 seperate functions for each operation (i.e. addition,subtraction,multiplication and division)\n",
    "#based on number given by user,call that perticular function and print the output"
   ]
  },
  {
   "cell_type": "code",
   "execution_count": 6,
   "id": "d8e45f55",
   "metadata": {},
   "outputs": [
    {
     "name": "stdout",
     "output_type": "stream",
     "text": [
      "process started\n",
      "30\n"
     ]
    }
   ],
   "source": [
    "a=10\n",
    "b=20\n",
    "x=1\n",
    "def add():\n",
    "    q=a+b\n",
    "    print(q)\n",
    "def sub():\n",
    "    w=a-b\n",
    "    print(w)\n",
    "def mult():\n",
    "    e=a*b\n",
    "    print(e)\n",
    "def div():\n",
    "    r=a%b\n",
    "    print(r)\n",
    "if (x<5):\n",
    "    print(\"process started\")\n",
    "    if(x==1):\n",
    "        add()\n",
    "    elif(x==2):\n",
    "        sub()\n",
    "    elif(x==3):\n",
    "        mult()\n",
    "else:\n",
    "    div()"
   ]
  },
  {
   "cell_type": "code",
   "execution_count": null,
   "id": "44c91e24",
   "metadata": {},
   "outputs": [],
   "source": []
  }
 ],
 "metadata": {
  "kernelspec": {
   "display_name": "Python 3",
   "language": "python",
   "name": "python3"
  },
  "language_info": {
   "codemirror_mode": {
    "name": "ipython",
    "version": 3
   },
   "file_extension": ".py",
   "mimetype": "text/x-python",
   "name": "python",
   "nbconvert_exporter": "python",
   "pygments_lexer": "ipython3",
   "version": "3.8.8"
  }
 },
 "nbformat": 4,
 "nbformat_minor": 5
}
