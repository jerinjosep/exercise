{
 "cells": [
  {
   "cell_type": "code",
   "execution_count": 1,
   "id": "90e05b71",
   "metadata": {},
   "outputs": [
    {
     "name": "stdout",
     "output_type": "stream",
     "text": [
      "{'b', 'c', 'a', 'd'}\n",
      "{'f', 'e', 'h'}\n"
     ]
    }
   ],
   "source": [
    "#task 7\n",
    "setA = {'a', 'b', 'c', 'd'}\n",
    "setB = {'e', 'f', 'h'}\n",
    "print(setA)\n",
    "print(setB)"
   ]
  },
  {
   "cell_type": "code",
   "execution_count": 3,
   "id": "e8a1b1ce",
   "metadata": {},
   "outputs": [
    {
     "name": "stdout",
     "output_type": "stream",
     "text": [
      "{'b', 'c', 'a', 'd'}\n"
     ]
    }
   ],
   "source": [
    "setC = setA.difference(setB)\n",
    "print(setC)"
   ]
  },
  {
   "cell_type": "code",
   "execution_count": 4,
   "id": "3d5f70af",
   "metadata": {},
   "outputs": [
    {
     "name": "stdout",
     "output_type": "stream",
     "text": [
      "{'k', 'i', 'c', 'a', 'j', 'b', 'h', 'd'}\n",
      "{'k', 'c', 'a', 'i', 'j', 'b', 'h', 'd'}\n"
     ]
    }
   ],
   "source": [
    "#set symetric difference\n",
    "A = {'a', 'b', 'c', 'd'}\n",
    "B = {'h', 'i', 'j','k' }\n",
    "C = {}\n",
    "print(A.symmetric_difference(B))\n",
    "print(B.symmetric_difference(A))"
   ]
  },
  {
   "cell_type": "code",
   "execution_count": null,
   "id": "664ac3dd",
   "metadata": {},
   "outputs": [],
   "source": []
  }
 ],
 "metadata": {
  "kernelspec": {
   "display_name": "Python 3",
   "language": "python",
   "name": "python3"
  },
  "language_info": {
   "codemirror_mode": {
    "name": "ipython",
    "version": 3
   },
   "file_extension": ".py",
   "mimetype": "text/x-python",
   "name": "python",
   "nbconvert_exporter": "python",
   "pygments_lexer": "ipython3",
   "version": "3.8.8"
  }
 },
 "nbformat": 4,
 "nbformat_minor": 5
}
