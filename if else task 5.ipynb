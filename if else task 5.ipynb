{
 "cells": [
  {
   "cell_type": "code",
   "execution_count": 7,
   "metadata": {
    "colab": {
     "base_uri": "https://localhost:8080/"
    },
    "id": "DCAETa7yEZLn",
    "outputId": "3eebcfb7-0457-414e-8556-70769b4286a3"
   },
   "outputs": [
    {
     "name": "stdout",
     "output_type": "stream",
     "text": [
      "process started\n",
      "-1\n"
     ]
    }
   ],
   "source": [
    "#task 9\n",
    "num1=5\n",
    "num2=6\n",
    "q=num1+num2\n",
    "w=num1-num2\n",
    "y=num1*num2\n",
    "z=num1/num2\n",
    "x=2\n",
    "if(x<5):\n",
    "  print('process started')\n",
    "  if(x==1):\n",
    "    print(q)\n",
    "  elif(x==2):\n",
    "     print(w)\n",
    "  elif(x==3):\n",
    "    print(y)\n",
    "else:\n",
    "  print(z)"
   ]
  },
  {
   "cell_type": "code",
   "execution_count": null,
   "metadata": {
    "id": "QBt5Gbh1IiKa"
   },
   "outputs": [],
   "source": []
  }
 ],
 "metadata": {
  "colab": {
   "name": "task_9",
   "provenance": []
  },
  "kernelspec": {
   "display_name": "Python 3",
   "language": "python",
   "name": "python3"
  },
  "language_info": {
   "codemirror_mode": {
    "name": "ipython",
    "version": 3
   },
   "file_extension": ".py",
   "mimetype": "text/x-python",
   "name": "python",
   "nbconvert_exporter": "python",
   "pygments_lexer": "ipython3",
   "version": "3.8.8"
  }
 },
 "nbformat": 4,
 "nbformat_minor": 1
}
