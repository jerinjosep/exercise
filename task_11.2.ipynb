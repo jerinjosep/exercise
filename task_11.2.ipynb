{
 "cells": [
  {
   "cell_type": "code",
   "execution_count": 12,
   "id": "6557dee4",
   "metadata": {},
   "outputs": [
    {
     "name": "stdout",
     "output_type": "stream",
     "text": [
      "process started\n",
      "30\n"
     ]
    }
   ],
   "source": [
    "a=10\n",
    "b=20\n",
    "x=1\n",
    "def add():\n",
    "    q=a+b\n",
    "    print(q)\n",
    "def sub():\n",
    "    w=a-b\n",
    "    print(w)\n",
    "def mult():\n",
    "    e=a*b\n",
    "    print(e)\n",
    "def div():\n",
    "    r=a%b\n",
    "    print(r)\n",
    "if (x<5):\n",
    "    print(\"process started\")\n",
    "    if(x==1):\n",
    "        add()\n",
    "    elif(x==2):\n",
    "        sub()\n",
    "    elif(x==3):\n",
    "        mult()\n",
    "else:\n",
    "    div()\n",
    "    \n",
    "  "
   ]
  }
 ],
 "metadata": {
  "kernelspec": {
   "display_name": "Python 3",
   "language": "python",
   "name": "python3"
  },
  "language_info": {
   "codemirror_mode": {
    "name": "ipython",
    "version": 3
   },
   "file_extension": ".py",
   "mimetype": "text/x-python",
   "name": "python",
   "nbconvert_exporter": "python",
   "pygments_lexer": "ipython3",
   "version": "3.8.8"
  }
 },
 "nbformat": 4,
 "nbformat_minor": 5
}
