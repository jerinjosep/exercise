{
 "cells": [
  {
   "cell_type": "code",
   "execution_count": 2,
   "id": "e690f1a2",
   "metadata": {},
   "outputs": [],
   "source": [
    "#return keyword\n",
    "\n",
    "#return keyword can be used to return values from a function\n",
    "#it can be used to end the execution of a function\n",
    "#statements below return keyword will not get executed"
   ]
  },
  {
   "cell_type": "code",
   "execution_count": 14,
   "id": "81e5f63f",
   "metadata": {},
   "outputs": [],
   "source": [
    "# Ex1) returning sum\n",
    "def add(x,y):\n",
    "    z = x + y\n",
    "    return z\n",
    "    print(z) "
   ]
  }
 ],
 "metadata": {
  "kernelspec": {
   "display_name": "Python 3",
   "language": "python",
   "name": "python3"
  },
  "language_info": {
   "codemirror_mode": {
    "name": "ipython",
    "version": 3
   },
   "file_extension": ".py",
   "mimetype": "text/x-python",
   "name": "python",
   "nbconvert_exporter": "python",
   "pygments_lexer": "ipython3",
   "version": "3.8.8"
  }
 },
 "nbformat": 4,
 "nbformat_minor": 5
}
