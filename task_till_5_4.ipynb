{
  "nbformat": 4,
  "nbformat_minor": 0,
  "metadata": {
    "colab": {
      "name": "task till 5.4",
      "provenance": [],
      "collapsed_sections": []
    },
    "kernelspec": {
      "name": "python3",
      "display_name": "Python 3"
    },
    "language_info": {
      "name": "python"
    }
  },
  "cells": [
    {
      "cell_type": "code",
      "metadata": {
        "colab": {
          "base_uri": "https://localhost:8080/"
        },
        "id": "7SCif1cJOxGr",
        "outputId": "e0ae2b95-dd10-4279-919a-3051384adc46"
      },
      "source": [
        "#task 3.2\n",
        "list1=[1,2,[3,4,[5,6,7,8]]]\n",
        "list1[2][2]"
      ],
      "execution_count": null,
      "outputs": [
        {
          "output_type": "execute_result",
          "data": {
            "text/plain": [
              "[5, 6, 7, 8]"
            ]
          },
          "metadata": {
            "tags": []
          },
          "execution_count": 14
        }
      ]
    },
    {
      "cell_type": "code",
      "metadata": {
        "colab": {
          "base_uri": "https://localhost:8080/"
        },
        "id": "N0iKcuKXaZfv",
        "outputId": "713efd88-1079-46e9-da19-3e583d5dc986"
      },
      "source": [
        "#task 4a\n",
        "l1 = [10, 20, [30, 40, [50, 60], 80], 90, 100]\n",
        "l1[2][2]\n",
        "print(l1)\n",
        "l1[2][2].insert(2,70)\n",
        "print(l1)"
      ],
      "execution_count": null,
      "outputs": [
        {
          "output_type": "stream",
          "text": [
            "[10, 20, [30, 40, [50, 60], 80], 90, 100]\n",
            "[10, 20, [30, 40, [50, 60, 70], 80], 90, 100]\n"
          ],
          "name": "stdout"
        }
      ]
    },
    {
      "cell_type": "code",
      "metadata": {
        "id": "HI59lwaHgpWZ",
        "colab": {
          "base_uri": "https://localhost:8080/"
        },
        "outputId": "2231d69c-f68f-4484-8667-280163178de4"
      },
      "source": [
        "#task 4.2\n",
        "#input\n",
        "l2 = [1,2,[3,4,5,6],9]\n",
        "print(l2)\n",
        "l2[2].append([7,8])\n",
        "print(l2)"
      ],
      "execution_count": null,
      "outputs": [
        {
          "output_type": "stream",
          "text": [
            "[1, 2, [3, 4, 5, 6], 9]\n",
            "[1, 2, [3, 4, 5, 6, [7, 8]], 9]\n"
          ],
          "name": "stdout"
        }
      ]
    },
    {
      "cell_type": "code",
      "metadata": {
        "colab": {
          "base_uri": "https://localhost:8080/"
        },
        "id": "qyPRuFD6h9Zy",
        "outputId": "fdf240f5-e99b-41ab-bff2-1a8e4d7146f1"
      },
      "source": [
        "dict1 = { \n",
        "   \"april_batch\":{ \n",
        "      \"student\":{ \n",
        "         \"name\":\"Mike\",\n",
        "         \"marks\":{ \n",
        "            \"python\":80,\n",
        "            \"maths\":70\n",
        "         }\n",
        "      }\n",
        "   }\n",
        "}\n",
        "dict1\n"
      ],
      "execution_count": null,
      "outputs": [
        {
          "output_type": "execute_result",
          "data": {
            "text/plain": [
              "{'april_batch': {'student': {'marks': {'maths': 70, 'python': 80},\n",
              "   'name': 'Mike'}}}"
            ]
          },
          "metadata": {
            "tags": []
          },
          "execution_count": 4
        }
      ]
    },
    {
      "cell_type": "code",
      "metadata": {
        "colab": {
          "base_uri": "https://localhost:8080/",
          "height": 35
        },
        "id": "VJs9fn9SjK3-",
        "outputId": "6614a720-8a5d-4d5b-9238-3d7177aae70c"
      },
      "source": [
        "#5.1\n",
        "dict1[\"april_batch\"][\"student\"][\"name\"]"
      ],
      "execution_count": null,
      "outputs": [
        {
          "output_type": "execute_result",
          "data": {
            "application/vnd.google.colaboratory.intrinsic+json": {
              "type": "string"
            },
            "text/plain": [
              "'jerin'"
            ]
          },
          "metadata": {
            "tags": []
          },
          "execution_count": 53
        }
      ]
    },
    {
      "cell_type": "code",
      "metadata": {
        "colab": {
          "base_uri": "https://localhost:8080/"
        },
        "id": "ziuK_mPUp-k5",
        "outputId": "3dd796ea-fc8d-4e7a-cfb2-1a59ad2abb89"
      },
      "source": [
        "#5.2\n",
        "dict1[\"april_batch\"][\"student\"][\"marks\"][\"python\"]"
      ],
      "execution_count": null,
      "outputs": [
        {
          "output_type": "execute_result",
          "data": {
            "text/plain": [
              "80"
            ]
          },
          "metadata": {
            "tags": []
          },
          "execution_count": 27
        }
      ]
    },
    {
      "cell_type": "code",
      "metadata": {
        "id": "vsEY9ODKs57z",
        "colab": {
          "base_uri": "https://localhost:8080/"
        },
        "outputId": "f74f3768-36d3-478f-93b3-ddc3c89ee42b"
      },
      "source": [
        "#5.3 \n",
        "dict1['april_batch']['student']['name']=[\"jerin\"]\n",
        "print(dict1)"
      ],
      "execution_count": null,
      "outputs": [
        {
          "output_type": "stream",
          "text": [
            "{'april_batch': {'student': {'name': ['jerin'], 'marks': {'python': 80, 'maths': 70}}}}\n"
          ],
          "name": "stdout"
        }
      ]
    },
    {
      "cell_type": "code",
      "metadata": {
        "colab": {
          "base_uri": "https://localhost:8080/"
        },
        "id": "OWjXha1BuiLE",
        "outputId": "6417ede1-f976-4eff-c166-32d488f1f706"
      },
      "source": [
        "print(dict1)"
      ],
      "execution_count": null,
      "outputs": [
        {
          "output_type": "stream",
          "text": [
            "{'april_batch': {'student': {'name': ['jerin'], 'marks': {'python': 80, 'maths': 70}}}}\n"
          ],
          "name": "stdout"
        }
      ]
    },
    {
      "cell_type": "code",
      "metadata": {
        "id": "XrsgUa2h7siK"
      },
      "source": [
        ""
      ],
      "execution_count": null,
      "outputs": []
    },
    {
      "cell_type": "code",
      "metadata": {
        "colab": {
          "base_uri": "https://localhost:8080/"
        },
        "id": "mVP4hc8Ep4Vi",
        "outputId": "f27528e9-ac78-4781-ac32-974fc2d81078"
      },
      "source": [
        "#6\n",
        "tup1=(1,2,3,4,5,6)\n",
        "tup1\n",
        "list1=list(tup1)\n",
        "list1\n",
        "list1.append(7)\n",
        "list1\n",
        "remove=list1.pop(5)\n",
        "print(remove)\n",
        "list1\n",
        "list1=tuple(list1)\n",
        "list1"
      ],
      "execution_count": null,
      "outputs": [
        {
          "output_type": "stream",
          "text": [
            "6\n"
          ],
          "name": "stdout"
        },
        {
          "output_type": "execute_result",
          "data": {
            "text/plain": [
              "(1, 2, 3, 4, 5, 7)"
            ]
          },
          "metadata": {
            "tags": []
          },
          "execution_count": 13
        }
      ]
    },
    {
      "cell_type": "code",
      "metadata": {
        "id": "CMh9I468p3rZ"
      },
      "source": [
        "#5.4\n",
        "dict1['april_batch']['student']['marks']['ML']=70\n",
        "dict1['april_batch']['student']['marks']['DL']=80\n"
      ],
      "execution_count": null,
      "outputs": []
    },
    {
      "cell_type": "code",
      "metadata": {
        "id": "nMWxIoFhj0eh",
        "colab": {
          "base_uri": "https://localhost:8080/"
        },
        "outputId": "58c99622-ff56-44cf-9d48-7d3f04994605"
      },
      "source": [
        "#5.4\n",
        "dict1"
      ],
      "execution_count": null,
      "outputs": [
        {
          "output_type": "execute_result",
          "data": {
            "text/plain": [
              "{'april_batch': {'student': {'marks': {'DL': 80,\n",
              "    'ML': 70,\n",
              "    'maths': 70,\n",
              "    'python': 80},\n",
              "   'name': ['jerin']}}}"
            ]
          },
          "metadata": {
            "tags": []
          },
          "execution_count": 36
        }
      ]
    },
    {
      "cell_type": "code",
      "metadata": {
        "id": "1S2u1Ne2kL0c"
      },
      "source": [
        ""
      ],
      "execution_count": null,
      "outputs": []
    },
    {
      "cell_type": "code",
      "metadata": {
        "id": "Q8tod_TrkgdN"
      },
      "source": [
        ""
      ],
      "execution_count": null,
      "outputs": []
    },
    {
      "cell_type": "code",
      "metadata": {
        "id": "hA7SJDPRc5DE"
      },
      "source": [
        ""
      ],
      "execution_count": null,
      "outputs": []
    },
    {
      "cell_type": "code",
      "metadata": {
        "id": "uSilK8lAnVdH"
      },
      "source": [
        ""
      ],
      "execution_count": null,
      "outputs": []
    }
  ]
}