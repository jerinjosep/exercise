{
 "cells": [
  {
   "cell_type": "code",
   "execution_count": 1,
   "id": "fe3b6c84",
   "metadata": {},
   "outputs": [
    {
     "name": "stdout",
     "output_type": "stream",
     "text": [
      "Updated animals list:  ['dog', 'rabbit', 'guinea pig']\n"
     ]
    }
   ],
   "source": [
    "#TASK 3.1  #remove\n",
    "animals = ['cat', 'dog', 'rabbit', 'guinea pig']\n",
    "animals.remove('cat')\n",
    "print('Updated animals list: ', animals)"
   ]
  },
  {
   "cell_type": "code",
   "execution_count": 4,
   "id": "237101bb",
   "metadata": {},
   "outputs": [
    {
     "name": "stdout",
     "output_type": "stream",
     "text": [
      "The count of ('c', 'd') is: 1\n",
      "The count of [3, 4] is: 1\n"
     ]
    }
   ],
   "source": [
    "#count\n",
    "random = ['a', ('a', 'b'), ('c', 'd'), [3, 4]]\n",
    "count = random.count(('c', 'd'))\n",
    "print(\"The count of ('c', 'd') is:\", count)\n",
    "count = random.count([3, 4])\n",
    "print(\"The count of [3, 4] is:\", count)\n"
   ]
  },
  {
   "cell_type": "code",
   "execution_count": 5,
   "id": "8360d206",
   "metadata": {},
   "outputs": [
    {
     "name": "stdout",
     "output_type": "stream",
     "text": [
      "List: []\n"
     ]
    }
   ],
   "source": [
    "#clear\n",
    "list = [{50,60}, ('a'), ['1.2', '2.2']]\n",
    "list.clear()\n",
    "print('List:', list)"
   ]
  },
  {
   "cell_type": "code",
   "execution_count": 7,
   "id": "51ea6e60",
   "metadata": {},
   "outputs": [
    {
     "name": "stdout",
     "output_type": "stream",
     "text": [
      "Sorted list: ['a', 'e', 'i', 'o', 'u']\n"
     ]
    }
   ],
   "source": [
    "#sort\n",
    "vowels = ['a', 'e', 'o', 'i', 'u']\n",
    "vowels.sort()\n",
    "print('Sorted list:', vowels)\n"
   ]
  },
  {
   "cell_type": "code",
   "execution_count": 9,
   "id": "291532a2",
   "metadata": {},
   "outputs": [
    {
     "name": "stdout",
     "output_type": "stream",
     "text": [
      "Original List: ['apples', 'android', 'blackberry']\n",
      "Updated List: ['apples', 'android', 'blackberry']\n"
     ]
    }
   ],
   "source": [
    "#reverse\n",
    "OS = ['apples', 'android', 'blackberry']\n",
    "print('Original List:', OS)\n",
    "systems.reverse()\n",
    "print('Updated List:', OS)"
   ]
  },
  {
   "cell_type": "code",
   "execution_count": null,
   "id": "a6fa2907",
   "metadata": {},
   "outputs": [],
   "source": []
  }
 ],
 "metadata": {
  "kernelspec": {
   "display_name": "Python 3",
   "language": "python",
   "name": "python3"
  },
  "language_info": {
   "codemirror_mode": {
    "name": "ipython",
    "version": 3
   },
   "file_extension": ".py",
   "mimetype": "text/x-python",
   "name": "python",
   "nbconvert_exporter": "python",
   "pygments_lexer": "ipython3",
   "version": "3.8.8"
  }
 },
 "nbformat": 4,
 "nbformat_minor": 5
}
