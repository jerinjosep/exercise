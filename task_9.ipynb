{
  "nbformat": 4,
  "nbformat_minor": 0,
  "metadata": {
    "colab": {
      "name": "task_9",
      "provenance": []
    },
    "kernelspec": {
      "name": "python3",
      "display_name": "Python 3"
    },
    "language_info": {
      "name": "python"
    }
  },
  "cells": [
    {
      "cell_type": "code",
      "metadata": {
        "colab": {
          "base_uri": "https://localhost:8080/"
        },
        "id": "DCAETa7yEZLn",
        "outputId": "3eebcfb7-0457-414e-8556-70769b4286a3"
      },
      "source": [
        "#task 9\n",
        "num1=5\n",
        "num2=6\n",
        "q=num1+num2\n",
        "w=num1-num2\n",
        "y=num1*num2\n",
        "z=num1/num2\n",
        "x=2\n",
        "if(x<5):\n",
        "  print('process started')\n",
        "  if(x==1):\n",
        "    print(q)\n",
        "  elif(x==2):\n",
        "     print(w)\n",
        "  elif(x==3):\n",
        "    print(y)\n",
        "else:\n",
        "  print(z)"
      ],
      "execution_count": 7,
      "outputs": [
        {
          "output_type": "stream",
          "text": [
            "process started\n",
            "-1\n"
          ],
          "name": "stdout"
        }
      ]
    },
    {
      "cell_type": "code",
      "metadata": {
        "id": "QBt5Gbh1IiKa"
      },
      "source": [
        ""
      ],
      "execution_count": null,
      "outputs": []
    }
  ]
}