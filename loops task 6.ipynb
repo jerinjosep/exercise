{
 "cells": [
  {
   "cell_type": "code",
   "execution_count": 1,
   "id": "60637729",
   "metadata": {},
   "outputs": [
    {
     "name": "stdout",
     "output_type": "stream",
     "text": [
      "1 2 3 4 5 6 7 8 9 11 12 13 14 15 "
     ]
    }
   ],
   "source": [
    "#10.1 task\n",
    "#The continue statement in Python returns the control to the beginning of the while loop. \n",
    "#The continue statement can be used in both while and for loops.\n",
    "#example of continue keyword.\n",
    "# loop from 1 to 11\n",
    "for i in range(1, 16):\n",
    "  \n",
    "    # If i is equals to 10,  \n",
    "    # continue to next iteration  \n",
    "    # without printing \n",
    "    if i == 10:\n",
    "        continue\n",
    "    else:\n",
    "        # otherwise print the value\n",
    "        # of i\n",
    "        print(i, end = \" \")"
   ]
  },
  {
   "cell_type": "code",
   "execution_count": 3,
   "id": "bd303e8f",
   "metadata": {},
   "outputs": [
    {
     "name": "stdout",
     "output_type": "stream",
     "text": [
      "a\n",
      "b\n",
      "d\n"
     ]
    }
   ],
   "source": [
    "#task 10.2\n",
    "#The pass statement is used as a placeholder for future code.\n",
    "#example of pass keyword.\n",
    "li =['a', 'b', 'c', 'd']\n",
    "  \n",
    "for i in li:\n",
    "    if(i =='c'):\n",
    "        pass \n",
    "    else:\n",
    "        print(i)"
   ]
  },
  {
   "cell_type": "code",
   "execution_count": null,
   "id": "dc4d23e7",
   "metadata": {},
   "outputs": [],
   "source": [
    "#task 10.3\n",
    "j = 10\n",
    "num = 1 \n",
    "print(\"list of numbers from 10 to {0}:\".format(num))\n",
    "while(j >= num):\n",
    "    print(i,end =\" \")\n",
    "    j = j -1"
   ]
  },
  {
   "cell_type": "code",
   "execution_count": null,
   "id": "7dc0e2c7",
   "metadata": {},
   "outputs": [],
   "source": []
  },
  {
   "cell_type": "code",
   "execution_count": null,
   "id": "eb7b33c5",
   "metadata": {},
   "outputs": [],
   "source": []
  }
 ],
 "metadata": {
  "kernelspec": {
   "display_name": "Python 3",
   "language": "python",
   "name": "python3"
  },
  "language_info": {
   "codemirror_mode": {
    "name": "ipython",
    "version": 3
   },
   "file_extension": ".py",
   "mimetype": "text/x-python",
   "name": "python",
   "nbconvert_exporter": "python",
   "pygments_lexer": "ipython3",
   "version": "3.8.8"
  }
 },
 "nbformat": 4,
 "nbformat_minor": 5
}
