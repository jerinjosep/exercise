{
  "nbformat": 4,
  "nbformat_minor": 0,
  "metadata": {
    "colab": {
      "name": "task",
      "provenance": [],
      "collapsed_sections": []
    },
    "kernelspec": {
      "name": "python3",
      "display_name": "Python 3"
    },
    "language_info": {
      "name": "python"
    }
  },
  "cells": [
    {
      "cell_type": "code",
      "metadata": {
        "colab": {
          "base_uri": "https://localhost:8080/"
        },
        "id": "7SCif1cJOxGr",
        "outputId": "e0ae2b95-dd10-4279-919a-3051384adc46"
      },
      "source": [
        "#task 3.2\n",
        "list1=[1,2,[3,4,[5,6,7,8]]]\n",
        "list1[2][2]"
      ],
      "execution_count": null,
      "outputs": [
        {
          "output_type": "execute_result",
          "data": {
            "text/plain": [
              "[5, 6, 7, 8]"
            ]
          },
          "metadata": {
            "tags": []
          },
          "execution_count": 14
        }
      ]
    },
    {
      "cell_type": "code",
      "metadata": {
        "colab": {
          "base_uri": "https://localhost:8080/"
        },
        "id": "N0iKcuKXaZfv",
        "outputId": "713efd88-1079-46e9-da19-3e583d5dc986"
      },
      "source": [
        "#task 4a\n",
        "l1 = [10, 20, [30, 40, [50, 60], 80], 90, 100]\n",
        "l1[2][2]\n",
        "print(l1)\n",
        "l1[2][2].insert(2,70)\n",
        "print(l1)"
      ],
      "execution_count": 32,
      "outputs": [
        {
          "output_type": "stream",
          "text": [
            "[10, 20, [30, 40, [50, 60], 80], 90, 100]\n",
            "[10, 20, [30, 40, [50, 60, 70], 80], 90, 100]\n"
          ],
          "name": "stdout"
        }
      ]
    },
    {
      "cell_type": "code",
      "metadata": {
        "id": "HI59lwaHgpWZ",
        "colab": {
          "base_uri": "https://localhost:8080/"
        },
        "outputId": "2231d69c-f68f-4484-8667-280163178de4"
      },
      "source": [
        "#task 4.2\n",
        "#input\n",
        "l2 = [1,2,[3,4,5,6],9]\n",
        "print(l2)\n",
        "l2[2].append([7,8])\n",
        "print(l2)"
      ],
      "execution_count": 9,
      "outputs": [
        {
          "output_type": "stream",
          "text": [
            "[1, 2, [3, 4, 5, 6], 9]\n",
            "[1, 2, [3, 4, 5, 6, [7, 8]], 9]\n"
          ],
          "name": "stdout"
        }
      ]
    },
    {
      "cell_type": "code",
      "metadata": {
        "colab": {
          "base_uri": "https://localhost:8080/"
        },
        "id": "qyPRuFD6h9Zy",
        "outputId": "32072677-5206-4351-911f-89f5098e4503"
      },
      "source": [
        "dict1 = { \n",
        "   \"april_batch\":{ \n",
        "      \"student\":{ \n",
        "         \"name\":\"Mike\",\n",
        "         \"marks\":{ \n",
        "            \"python\":80,\n",
        "            \"maths\":70\n",
        "         }\n",
        "      }\n",
        "   }\n",
        "}\n",
        "print(dict1)\n"
      ],
      "execution_count": 12,
      "outputs": [
        {
          "output_type": "stream",
          "text": [
            "{'april_batch': {'student': {'name': 'Mike', 'marks': {'python': 80, 'maths': 70}}}}\n"
          ],
          "name": "stdout"
        }
      ]
    },
    {
      "cell_type": "code",
      "metadata": {
        "colab": {
          "base_uri": "https://localhost:8080/",
          "height": 35
        },
        "id": "VJs9fn9SjK3-",
        "outputId": "6614a720-8a5d-4d5b-9238-3d7177aae70c"
      },
      "source": [
        "#5.1\n",
        "dict1[\"april_batch\"][\"student\"][\"name\"]"
      ],
      "execution_count": 53,
      "outputs": [
        {
          "output_type": "execute_result",
          "data": {
            "application/vnd.google.colaboratory.intrinsic+json": {
              "type": "string"
            },
            "text/plain": [
              "'jerin'"
            ]
          },
          "metadata": {
            "tags": []
          },
          "execution_count": 53
        }
      ]
    },
    {
      "cell_type": "code",
      "metadata": {
        "colab": {
          "base_uri": "https://localhost:8080/"
        },
        "id": "ziuK_mPUp-k5",
        "outputId": "3dd796ea-fc8d-4e7a-cfb2-1a59ad2abb89"
      },
      "source": [
        "#5.2\n",
        "dict1[\"april_batch\"][\"student\"][\"marks\"][\"python\"]"
      ],
      "execution_count": 27,
      "outputs": [
        {
          "output_type": "execute_result",
          "data": {
            "text/plain": [
              "80"
            ]
          },
          "metadata": {
            "tags": []
          },
          "execution_count": 27
        }
      ]
    },
    {
      "cell_type": "code",
      "metadata": {
        "id": "vsEY9ODKs57z"
      },
      "source": [
        "#5.3\n",
        "dict1['april_batch']['student']={'name':'jerin'}"
      ],
      "execution_count": 52,
      "outputs": []
    },
    {
      "cell_type": "code",
      "metadata": {
        "colab": {
          "base_uri": "https://localhost:8080/",
          "height": 128
        },
        "id": "OWjXha1BuiLE",
        "outputId": "a741de10-03ef-4ab5-8d7c-624a015c71a5"
      },
      "source": [
        "#5.4\n",
        "dict1['marks2']=['ml':70,'dl':80]\n"
      ],
      "execution_count": 58,
      "outputs": [
        {
          "output_type": "error",
          "ename": "SyntaxError",
          "evalue": "ignored",
          "traceback": [
            "\u001b[0;36m  File \u001b[0;32m\"<ipython-input-58-3e55b4c6e4a5>\"\u001b[0;36m, line \u001b[0;32m2\u001b[0m\n\u001b[0;31m    dict1['marks2']=['ml':70,'dl':80]\u001b[0m\n\u001b[0m                         ^\u001b[0m\n\u001b[0;31mSyntaxError\u001b[0m\u001b[0;31m:\u001b[0m invalid syntax\n"
          ]
        }
      ]
    },
    {
      "cell_type": "code",
      "metadata": {
        "colab": {
          "base_uri": "https://localhost:8080/",
          "height": 229
        },
        "id": "mVP4hc8Ep4Vi",
        "outputId": "35d0bfec-d266-4515-93d7-662ce35255cf"
      },
      "source": [
        "#6\n",
        "tup1=(1,2,3,4,5,6)\n",
        "tup1\n",
        "list1=list(tup1)\n",
        "list1\n",
        "list1.append(7)\n",
        "list1\n",
        "remove=list1.pop(5)\n",
        "print(remove)\n",
        "list1\n",
        "tup1-tuple(list1)\n",
        "tup1"
      ],
      "execution_count": 72,
      "outputs": [
        {
          "output_type": "stream",
          "text": [
            "6\n"
          ],
          "name": "stdout"
        },
        {
          "output_type": "error",
          "ename": "TypeError",
          "evalue": "ignored",
          "traceback": [
            "\u001b[0;31m---------------------------------------------------------------------------\u001b[0m",
            "\u001b[0;31mTypeError\u001b[0m                                 Traceback (most recent call last)",
            "\u001b[0;32m<ipython-input-72-8bd8bcde7d9f>\u001b[0m in \u001b[0;36m<module>\u001b[0;34m()\u001b[0m\n\u001b[1;32m      9\u001b[0m \u001b[0mprint\u001b[0m\u001b[0;34m(\u001b[0m\u001b[0mremove\u001b[0m\u001b[0;34m)\u001b[0m\u001b[0;34m\u001b[0m\u001b[0;34m\u001b[0m\u001b[0m\n\u001b[1;32m     10\u001b[0m \u001b[0mlist1\u001b[0m\u001b[0;34m\u001b[0m\u001b[0;34m\u001b[0m\u001b[0m\n\u001b[0;32m---> 11\u001b[0;31m \u001b[0mtup1\u001b[0m\u001b[0;34m-\u001b[0m\u001b[0mtuple\u001b[0m\u001b[0;34m(\u001b[0m\u001b[0mlist1\u001b[0m\u001b[0;34m)\u001b[0m\u001b[0;34m\u001b[0m\u001b[0;34m\u001b[0m\u001b[0m\n\u001b[0m\u001b[1;32m     12\u001b[0m \u001b[0mtup1\u001b[0m\u001b[0;34m\u001b[0m\u001b[0;34m\u001b[0m\u001b[0m\n",
            "\u001b[0;31mTypeError\u001b[0m: unsupported operand type(s) for -: 'tuple' and 'tuple'"
          ]
        }
      ]
    },
    {
      "cell_type": "code",
      "metadata": {
        "id": "CMh9I468p3rZ"
      },
      "source": [
        ""
      ],
      "execution_count": 72,
      "outputs": []
    },
    {
      "cell_type": "code",
      "metadata": {
        "id": "nMWxIoFhj0eh"
      },
      "source": [
        ""
      ],
      "execution_count": 72,
      "outputs": []
    },
    {
      "cell_type": "code",
      "metadata": {
        "id": "1S2u1Ne2kL0c"
      },
      "source": [
        ""
      ],
      "execution_count": null,
      "outputs": []
    },
    {
      "cell_type": "code",
      "metadata": {
        "id": "Q8tod_TrkgdN"
      },
      "source": [
        ""
      ],
      "execution_count": 72,
      "outputs": []
    },
    {
      "cell_type": "code",
      "metadata": {
        "id": "hA7SJDPRc5DE"
      },
      "source": [
        ""
      ],
      "execution_count": 72,
      "outputs": []
    },
    {
      "cell_type": "code",
      "metadata": {
        "id": "uSilK8lAnVdH"
      },
      "source": [
        ""
      ],
      "execution_count": null,
      "outputs": []
    }
  ]
}